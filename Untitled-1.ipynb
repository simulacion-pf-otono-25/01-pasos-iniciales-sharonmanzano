{
 "cells": [
  {
   "cell_type": "code",
   "execution_count": null,
   "id": "bd381d20",
   "metadata": {},
   "outputs": [],
   "source": [
    "print(\"Hola\")"
   ]
  }
 ],
 "metadata": {
  "kernelspec": {
   "display_name": "Python 3",
   "language": "python",
   "name": "python3"
  },
  "language_info": {
   "name": "python",
   "version": "3.13.7"
  }
 },
 "nbformat": 4,
 "nbformat_minor": 5
}
