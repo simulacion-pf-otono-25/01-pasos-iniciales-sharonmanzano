{
 "cells": [
  {
   "cell_type": "code",
   "execution_count": null,
   "id": "9efbc365",
   "metadata": {},
   "outputs": [],
   "source": [
    "print('sam')"
   ]
  }
 ],
 "metadata": {
  "kernelspec": {
   "display_name": "Python 3",
   "language": "python",
   "name": "python3"
  },
  "language_info": {
   "name": "python",
   "version": "3.13.7"
  }
 },
 "nbformat": 4,
 "nbformat_minor": 5
}
